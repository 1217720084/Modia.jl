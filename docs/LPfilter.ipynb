{
 "cells": [
  {
   "cell_type": "code",
   "execution_count": 1,
   "metadata": {},
   "outputs": [
    {
     "name": "stdout",
     "output_type": "stream",
     "text": [
      " \n",
      "\n",
      "Welcome to Modia - MODeling in julIA\n",
      "Version 0.1\n",
      "\n",
      "\n"
     ]
    }
   ],
   "source": [
    "reload(\"Modia\")\n",
    "using Modia\n",
    "using Modia.Electric"
   ]
  },
  {
   "cell_type": "code",
   "execution_count": 2,
   "metadata": {},
   "outputs": [],
   "source": [
    "@model LPfilter begin\n",
    "  R=Resistor(R=100.0)\n",
    "  C=Capacitor(C=2.5E-3)\n",
    "  V=ConstantVoltage(V=10.0)\n",
    "@equations begin\n",
    "  connect(V.p, R.p)\n",
    "  connect(R.n, C.p)\n",
    "  connect(C.n, V.n)\n",
    "  end\n",
    "end;"
   ]
  },
  {
   "cell_type": "code",
   "execution_count": null,
   "metadata": {},
   "outputs": [
    {
     "name": "stdout",
     "output_type": "stream",
     "text": [
      "\n",
      "Simulating model: LPfilter\n",
      "Instantiate:             0.863546 seconds (200.20 k allocations: 11.431 MiB, 1.45% gc time)\n",
      "Flatten:                 0.709940 seconds (92.59 k allocations: 4.941 MiB)\n",
      "Structural analysis:     0.897154 seconds (217.28 k allocations: 11.277 MiB)\n",
      "Remove singularities:    0.826740 seconds (17.60 k allocations: 1.078 MiB)\n",
      "Consistency check:       0.052576 seconds (5.39 k allocations: 293.722 KiB)\n",
      "Pantelides:              0.114921 seconds (22.84 k allocations: 1.147 MiB)\n",
      "Matching:                0.000010 seconds (39 allocations: 4.391 KiB)\n",
      "BLT:                     0.097952 seconds (16.30 k allocations: 876.586 KiB)\n",
      "Symbolic processing:     0.862180 seconds (292.68 k allocations: 14.553 MiB, 18.89% gc time)\n",
      "Code generation and simulation:         \n",
      "  ModiaMath:             1.626345 seconds (363.04 k allocations: 17.127 MiB, 0.64% gc time)\n",
      "  ModiaMath:             0.005346 seconds (36.97 k allocations: 744.859 KiB)\n",
      "  3.848310 seconds (831.42 k allocations: 39.373 MiB, 0.67% gc time)\n",
      "Total time: 19.982 seconds\n"
     ]
    }
   ],
   "source": [
    "res = simulate(LPfilter, 2);"
   ]
  },
  {
   "cell_type": "code",
   "execution_count": null,
   "metadata": {},
   "outputs": [],
   "source": [
    "ModiaMath.plot(res, \"C.v\")"
   ]
  },
  {
   "cell_type": "code",
   "execution_count": null,
   "metadata": {},
   "outputs": [],
   "source": []
  }
 ],
 "metadata": {
  "kernelspec": {
   "display_name": "Julia 0.6.4",
   "language": "julia",
   "name": "julia-0.6"
  },
  "language_info": {
   "file_extension": ".jl",
   "mimetype": "application/julia",
   "name": "julia",
   "version": "0.6.4"
  }
 },
 "nbformat": 4,
 "nbformat_minor": 2
}
