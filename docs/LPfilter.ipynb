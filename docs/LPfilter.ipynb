{
 "cells": [
  {
   "cell_type": "code",
   "execution_count": 1,
   "metadata": {},
   "outputs": [
    {
     "name": "stdout",
     "output_type": "stream",
     "text": [
      " \n",
      "\n",
      "Welcome to Modia - MODeling in julIA\n",
      "Version 0.1\n",
      "\n",
      "\n"
     ]
    }
   ],
   "source": [
    "using Modia\n",
    "using Modia.Electric\n",
    "using ModiaMath.plot"
   ]
  },
  {
   "cell_type": "code",
   "execution_count": 2,
   "metadata": {},
   "outputs": [],
   "source": [
    "@model LPfilter begin\n",
    "  R=Resistor(R=100.0)\n",
    "  C=Capacitor(C=2.5E-3)\n",
    "  V=ConstantVoltage(V=10.0)\n",
    "@equations begin\n",
    "  connect(V.p, R.p)\n",
    "  connect(R.n, C.p)\n",
    "  connect(C.n, V.n)\n",
    "  end\n",
    "end;"
   ]
  },
  {
   "cell_type": "code",
   "execution_count": 3,
   "metadata": {},
   "outputs": [],
   "source": [
    "result = simulate(LPfilter, 2);"
   ]
  },
  {
   "cell_type": "code",
   "execution_count": 6,
   "metadata": {},
   "outputs": [
    {
     "ename": "LoadError",
     "evalue": "\u001b[91mMethodError: no method matching plot(::Dict{AbstractString,Any}, ::String, ::String)\u001b[0m\nClosest candidates are:\n  plot(::Any, ::String; heading, grid, xAxis, figure) at C:\\Users\\Hilding Elmqvist\\.julia\\v0.6\\ModiaMath\\src\\Result\\plotResult.jl:89\n  plot(::Any, \u001b[91m::AbstractArray{T,1} where T\u001b[39m; heading, grid, xAxis, figure) at C:\\Users\\Hilding Elmqvist\\.julia\\v0.6\\ModiaMath\\src\\Result\\plotResult.jl:92\n  plot(::Any, \u001b[91m::Symbol\u001b[39m; heading, grid, xAxis, figure) at C:\\Users\\Hilding Elmqvist\\.julia\\v0.6\\ModiaMath\\src\\Result\\plotResult_with_PyPlot.jl:43\n  ...\u001b[39m",
     "output_type": "error",
     "traceback": [
      "\u001b[91mMethodError: no method matching plot(::Dict{AbstractString,Any}, ::String, ::String)\u001b[0m\nClosest candidates are:\n  plot(::Any, ::String; heading, grid, xAxis, figure) at C:\\Users\\Hilding Elmqvist\\.julia\\v0.6\\ModiaMath\\src\\Result\\plotResult.jl:89\n  plot(::Any, \u001b[91m::AbstractArray{T,1} where T\u001b[39m; heading, grid, xAxis, figure) at C:\\Users\\Hilding Elmqvist\\.julia\\v0.6\\ModiaMath\\src\\Result\\plotResult.jl:92\n  plot(::Any, \u001b[91m::Symbol\u001b[39m; heading, grid, xAxis, figure) at C:\\Users\\Hilding Elmqvist\\.julia\\v0.6\\ModiaMath\\src\\Result\\plotResult_with_PyPlot.jl:43\n  ...\u001b[39m",
      ""
     ]
    }
   ],
   "source": [
    "plot(result, \"C.v\", \"V.V\")"
   ]
  },
  {
   "cell_type": "code",
   "execution_count": null,
   "metadata": {},
   "outputs": [],
   "source": []
  }
 ],
 "metadata": {
  "kernelspec": {
   "display_name": "Julia 0.6.4",
   "language": "julia",
   "name": "julia-0.6"
  },
  "language_info": {
   "file_extension": ".jl",
   "mimetype": "application/julia",
   "name": "julia",
   "version": "0.6.4"
  }
 },
 "nbformat": 4,
 "nbformat_minor": 2
}
